{
 "cells": [
  {
   "cell_type": "code",
   "execution_count": 1,
   "metadata": {},
   "outputs": [],
   "source": [
    "import pandas as pd"
   ]
  },
  {
   "cell_type": "code",
   "execution_count": 2,
   "metadata": {},
   "outputs": [],
   "source": [
    "df=pd.read_csv(r'C:\\Users\\user\\Downloads\\train.csv')"
   ]
  },
  {
   "cell_type": "code",
   "execution_count": 3,
   "metadata": {},
   "outputs": [
    {
     "data": {
      "text/html": [
       "<div>\n",
       "<style scoped>\n",
       "    .dataframe tbody tr th:only-of-type {\n",
       "        vertical-align: middle;\n",
       "    }\n",
       "\n",
       "    .dataframe tbody tr th {\n",
       "        vertical-align: top;\n",
       "    }\n",
       "\n",
       "    .dataframe thead th {\n",
       "        text-align: right;\n",
       "    }\n",
       "</style>\n",
       "<table border=\"1\" class=\"dataframe\">\n",
       "  <thead>\n",
       "    <tr style=\"text-align: right;\">\n",
       "      <th></th>\n",
       "      <th>id</th>\n",
       "      <th>title</th>\n",
       "      <th>author</th>\n",
       "      <th>text</th>\n",
       "      <th>label</th>\n",
       "    </tr>\n",
       "  </thead>\n",
       "  <tbody>\n",
       "    <tr>\n",
       "      <th>0</th>\n",
       "      <td>0</td>\n",
       "      <td>House Dem Aide: We Didn’t Even See Comey’s Let...</td>\n",
       "      <td>Darrell Lucus</td>\n",
       "      <td>House Dem Aide: We Didn’t Even See Comey’s Let...</td>\n",
       "      <td>1</td>\n",
       "    </tr>\n",
       "    <tr>\n",
       "      <th>1</th>\n",
       "      <td>1</td>\n",
       "      <td>FLYNN: Hillary Clinton, Big Woman on Campus - ...</td>\n",
       "      <td>Daniel J. Flynn</td>\n",
       "      <td>Ever get the feeling your life circles the rou...</td>\n",
       "      <td>0</td>\n",
       "    </tr>\n",
       "    <tr>\n",
       "      <th>2</th>\n",
       "      <td>2</td>\n",
       "      <td>Why the Truth Might Get You Fired</td>\n",
       "      <td>Consortiumnews.com</td>\n",
       "      <td>Why the Truth Might Get You Fired October 29, ...</td>\n",
       "      <td>1</td>\n",
       "    </tr>\n",
       "    <tr>\n",
       "      <th>3</th>\n",
       "      <td>3</td>\n",
       "      <td>15 Civilians Killed In Single US Airstrike Hav...</td>\n",
       "      <td>Jessica Purkiss</td>\n",
       "      <td>Videos 15 Civilians Killed In Single US Airstr...</td>\n",
       "      <td>1</td>\n",
       "    </tr>\n",
       "    <tr>\n",
       "      <th>4</th>\n",
       "      <td>4</td>\n",
       "      <td>Iranian woman jailed for fictional unpublished...</td>\n",
       "      <td>Howard Portnoy</td>\n",
       "      <td>Print \\nAn Iranian woman has been sentenced to...</td>\n",
       "      <td>1</td>\n",
       "    </tr>\n",
       "  </tbody>\n",
       "</table>\n",
       "</div>"
      ],
      "text/plain": [
       "   id                                              title              author  \\\n",
       "0   0  House Dem Aide: We Didn’t Even See Comey’s Let...       Darrell Lucus   \n",
       "1   1  FLYNN: Hillary Clinton, Big Woman on Campus - ...     Daniel J. Flynn   \n",
       "2   2                  Why the Truth Might Get You Fired  Consortiumnews.com   \n",
       "3   3  15 Civilians Killed In Single US Airstrike Hav...     Jessica Purkiss   \n",
       "4   4  Iranian woman jailed for fictional unpublished...      Howard Portnoy   \n",
       "\n",
       "                                                text  label  \n",
       "0  House Dem Aide: We Didn’t Even See Comey’s Let...      1  \n",
       "1  Ever get the feeling your life circles the rou...      0  \n",
       "2  Why the Truth Might Get You Fired October 29, ...      1  \n",
       "3  Videos 15 Civilians Killed In Single US Airstr...      1  \n",
       "4  Print \\nAn Iranian woman has been sentenced to...      1  "
      ]
     },
     "execution_count": 3,
     "metadata": {},
     "output_type": "execute_result"
    }
   ],
   "source": [
    "df.head()"
   ]
  },
  {
   "cell_type": "code",
   "execution_count": 4,
   "metadata": {},
   "outputs": [
    {
     "data": {
      "text/plain": [
       "(20800, 5)"
      ]
     },
     "execution_count": 4,
     "metadata": {},
     "output_type": "execute_result"
    }
   ],
   "source": [
    "df.shape"
   ]
  },
  {
   "cell_type": "code",
   "execution_count": 5,
   "metadata": {},
   "outputs": [
    {
     "data": {
      "text/plain": [
       "id           0\n",
       "title      558\n",
       "author    1957\n",
       "text        39\n",
       "label        0\n",
       "dtype: int64"
      ]
     },
     "execution_count": 5,
     "metadata": {},
     "output_type": "execute_result"
    }
   ],
   "source": [
    "df.isnull().sum()"
   ]
  },
  {
   "cell_type": "code",
   "execution_count": 6,
   "metadata": {},
   "outputs": [],
   "source": [
    "df.dropna(inplace=True)"
   ]
  },
  {
   "cell_type": "code",
   "execution_count": 7,
   "metadata": {},
   "outputs": [
    {
     "data": {
      "text/plain": [
       "(18285, 5)"
      ]
     },
     "execution_count": 7,
     "metadata": {},
     "output_type": "execute_result"
    }
   ],
   "source": [
    "df.shape"
   ]
  },
  {
   "cell_type": "code",
   "execution_count": 8,
   "metadata": {},
   "outputs": [],
   "source": [
    "import seaborn as sns\n",
    "def create_distribution(feature):\n",
    "    return sns.countplot(df[feature])"
   ]
  },
  {
   "cell_type": "code",
   "execution_count": 9,
   "metadata": {},
   "outputs": [
    {
     "data": {
      "text/plain": [
       "id         int64\n",
       "title     object\n",
       "author    object\n",
       "text      object\n",
       "label      int64\n",
       "dtype: object"
      ]
     },
     "execution_count": 9,
     "metadata": {},
     "output_type": "execute_result"
    }
   ],
   "source": [
    "df.dtypes"
   ]
  },
  {
   "cell_type": "code",
   "execution_count": 10,
   "metadata": {},
   "outputs": [],
   "source": [
    "df['label']=df['label'].astype(str)"
   ]
  },
  {
   "cell_type": "code",
   "execution_count": 11,
   "metadata": {},
   "outputs": [
    {
     "name": "stderr",
     "output_type": "stream",
     "text": [
      "C:\\Users\\user\\anaconda3\\lib\\site-packages\\seaborn\\_decorators.py:36: FutureWarning: Pass the following variable as a keyword arg: x. From version 0.12, the only valid positional argument will be `data`, and passing other arguments without an explicit keyword will result in an error or misinterpretation.\n",
      "  warnings.warn(\n"
     ]
    },
    {
     "data": {
      "text/plain": [
       "<AxesSubplot:xlabel='label', ylabel='count'>"
      ]
     },
     "execution_count": 11,
     "metadata": {},
     "output_type": "execute_result"
    },
    {
     "data": {
      "image/png": "[encoded data removed]",
      "text/plain": [
       "<Figure size 432x288 with 1 Axes>"
      ]
     },
     "metadata": {
      "needs_background": "light"
     },
     "output_type": "display_data"
    }
   ],
   "source": [
    "create_distribution('label')"
   ]
  },
  {
   "cell_type": "code",
   "execution_count": 12,
   "metadata": {},
   "outputs": [],
   "source": [
    "message=df.copy()"
   ]
  },
  {
   "cell_type": "code",
   "execution_count": 13,
   "metadata": {},
   "outputs": [],
   "source": [
    "message.reset_index(inplace=True)"
   ]
  },
  {
   "cell_type": "code",
   "execution_count": 14,
   "metadata": {},
   "outputs": [],
   "source": [
    "message.drop(['index','id'],axis=1,inplace=True)"
   ]
  },
  {
   "cell_type": "code",
   "execution_count": 15,
   "metadata": {},
   "outputs": [
    {
     "data": {
      "text/html": [
       "<div>\n",
       "<style scoped>\n",
       "    .dataframe tbody tr th:only-of-type {\n",
       "        vertical-align: middle;\n",
       "    }\n",
       "\n",
       "    .dataframe tbody tr th {\n",
       "        vertical-align: top;\n",
       "    }\n",
       "\n",
       "    .dataframe thead th {\n",
       "        text-align: right;\n",
       "    }\n",
       "</style>\n",
       "<table border=\"1\" class=\"dataframe\">\n",
       "  <thead>\n",
       "    <tr style=\"text-align: right;\">\n",
       "      <th></th>\n",
       "      <th>title</th>\n",
       "      <th>author</th>\n",
       "      <th>text</th>\n",
       "      <th>label</th>\n",
       "    </tr>\n",
       "  </thead>\n",
       "  <tbody>\n",
       "    <tr>\n",
       "      <th>0</th>\n",
       "      <td>House Dem Aide: We Didn’t Even See Comey’s Let...</td>\n",
       "      <td>Darrell Lucus</td>\n",
       "      <td>House Dem Aide: We Didn’t Even See Comey’s Let...</td>\n",
       "      <td>1</td>\n",
       "    </tr>\n",
       "    <tr>\n",
       "      <th>1</th>\n",
       "      <td>FLYNN: Hillary Clinton, Big Woman on Campus - ...</td>\n",
       "      <td>Daniel J. Flynn</td>\n",
       "      <td>Ever get the feeling your life circles the rou...</td>\n",
       "      <td>0</td>\n",
       "    </tr>\n",
       "    <tr>\n",
       "      <th>2</th>\n",
       "      <td>Why the Truth Might Get You Fired</td>\n",
       "      <td>Consortiumnews.com</td>\n",
       "      <td>Why the Truth Might Get You Fired October 29, ...</td>\n",
       "      <td>1</td>\n",
       "    </tr>\n",
       "    <tr>\n",
       "      <th>3</th>\n",
       "      <td>15 Civilians Killed In Single US Airstrike Hav...</td>\n",
       "      <td>Jessica Purkiss</td>\n",
       "      <td>Videos 15 Civilians Killed In Single US Airstr...</td>\n",
       "      <td>1</td>\n",
       "    </tr>\n",
       "    <tr>\n",
       "      <th>4</th>\n",
       "      <td>Iranian woman jailed for fictional unpublished...</td>\n",
       "      <td>Howard Portnoy</td>\n",
       "      <td>Print \\nAn Iranian woman has been sentenced to...</td>\n",
       "      <td>1</td>\n",
       "    </tr>\n",
       "  </tbody>\n",
       "</table>\n",
       "</div>"
      ],
      "text/plain": [
       "                                               title              author  \\\n",
       "0  House Dem Aide: We Didn’t Even See Comey’s Let...       Darrell Lucus   \n",
       "1  FLYNN: Hillary Clinton, Big Woman on Campus - ...     Daniel J. Flynn   \n",
       "2                  Why the Truth Might Get You Fired  Consortiumnews.com   \n",
       "3  15 Civilians Killed In Single US Airstrike Hav...     Jessica Purkiss   \n",
       "4  Iranian woman jailed for fictional unpublished...      Howard Portnoy   \n",
       "\n",
       "                                                text label  \n",
       "0  House Dem Aide: We Didn’t Even See Comey’s Let...     1  \n",
       "1  Ever get the feeling your life circles the rou...     0  \n",
       "2  Why the Truth Might Get You Fired October 29, ...     1  \n",
       "3  Videos 15 Civilians Killed In Single US Airstr...     1  \n",
       "4  Print \\nAn Iranian woman has been sentenced to...     1  "
      ]
     },
     "execution_count": 15,
     "metadata": {},
     "output_type": "execute_result"
    }
   ],
   "source": [
    "message.head()"
   ]
  },
  {
   "cell_type": "code",
   "execution_count": 16,
   "metadata": {},
   "outputs": [],
   "source": [
    "##stemming\n",
    "data=message['title'][0]"
   ]
  },
  {
   "cell_type": "code",
   "execution_count": 17,
   "metadata": {},
   "outputs": [],
   "source": [
    "import re"
   ]
  },
  {
   "cell_type": "code",
   "execution_count": 18,
   "metadata": {},
   "outputs": [
    {
     "data": {
      "text/plain": [
       "'House Dem Aide  We Didn t Even See Comey s Letter Until Jason Chaffetz Tweeted It'"
      ]
     },
     "execution_count": 18,
     "metadata": {},
     "output_type": "execute_result"
    }
   ],
   "source": [
    "re.sub('[^a-zA-Z]',' ',data)"
   ]
  },
  {
   "cell_type": "code",
   "execution_count": 19,
   "metadata": {},
   "outputs": [
    {
     "data": {
      "text/plain": [
       "'house dem aide: we didn’t even see comey’s letter until jason chaffetz tweeted it'"
      ]
     },
     "execution_count": 19,
     "metadata": {},
     "output_type": "execute_result"
    }
   ],
   "source": [
    "##USING NLP TO FIGURE OUT FAKE NEWS--NLP--BAG OR WORDS, TF-IDF--Vector representation\n",
    "data=data.lower()\n",
    "data"
   ]
  },
  {
   "cell_type": "code",
   "execution_count": 20,
   "metadata": {},
   "outputs": [],
   "source": [
    "list=data.split()"
   ]
  },
  {
   "cell_type": "code",
   "execution_count": 21,
   "metadata": {},
   "outputs": [
    {
     "name": "stdout",
     "output_type": "stream",
     "text": [
      "Requirement already satisfied: nltk in c:\\users\\user\\anaconda3\\lib\\site-packages (3.5)\n",
      "Requirement already satisfied: regex in c:\\users\\user\\anaconda3\\lib\\site-packages (from nltk) (2020.10.15)\n",
      "Requirement already satisfied: joblib in c:\\users\\user\\anaconda3\\lib\\site-packages (from nltk) (0.17.0)\n",
      "Requirement already satisfied: tqdm in c:\\users\\user\\anaconda3\\lib\\site-packages (from nltk) (4.50.2)\n",
      "Requirement already satisfied: click in c:\\users\\user\\anaconda3\\lib\\site-packages (from nltk) (7.1.2)\n"
     ]
    }
   ],
   "source": [
    "!pip install nltk"
   ]
  },
  {
   "cell_type": "code",
   "execution_count": 22,
   "metadata": {},
   "outputs": [],
   "source": [
    "import nltk \n",
    "from nltk.stem.porter import PorterStemmer\n",
    "from nltk.corpus import stopwords"
   ]
  },
  {
   "cell_type": "code",
   "execution_count": 23,
   "metadata": {},
   "outputs": [],
   "source": [
    "ps=PorterStemmer()"
   ]
  },
  {
   "cell_type": "code",
   "execution_count": 24,
   "metadata": {},
   "outputs": [
    {
     "name": "stderr",
     "output_type": "stream",
     "text": [
      "[nltk_data] Downloading package stopwords to\n",
      "[nltk_data]     C:\\Users\\user\\AppData\\Roaming\\nltk_data...\n",
      "[nltk_data]   Package stopwords is already up-to-date!\n"
     ]
    },
    {
     "data": {
      "text/plain": [
       "True"
      ]
     },
     "execution_count": 24,
     "metadata": {},
     "output_type": "execute_result"
    }
   ],
   "source": [
    "nltk.download(\"stopwords\")"
   ]
  },
  {
   "cell_type": "code",
   "execution_count": 25,
   "metadata": {},
   "outputs": [],
   "source": [
    "review=[ps.stem(word) for word in list if word not in set(stopwords.words('english'))]"
   ]
  },
  {
   "cell_type": "code",
   "execution_count": 26,
   "metadata": {},
   "outputs": [
    {
     "data": {
      "text/plain": [
       "'hous dem aide: didn’t even see comey’ letter jason chaffetz tweet'"
      ]
     },
     "execution_count": 26,
     "metadata": {},
     "output_type": "execute_result"
    }
   ],
   "source": [
    "' '.join(review)"
   ]
  },
  {
   "cell_type": "code",
   "execution_count": 32,
   "metadata": {},
   "outputs": [],
   "source": [
    "corpus=[]\n",
    "sentences=[]\n",
    "for i in range(0,len(message)):\n",
    "    review=re.sub('[^a-zA-Z]',' ',message['title'][i])\n",
    "    review=review.lower()\n",
    "    list=review.split()\n",
    "    review=[ps.stem(word) for word in list if word not in set(stopwords.words('english'))]\n",
    "    sentences=' '.join(review)\n",
    "    corpus.append(sentences)"
   ]
  },
  {
   "cell_type": "code",
   "execution_count": 33,
   "metadata": {},
   "outputs": [
    {
     "data": {
      "text/plain": [
       "'hous dem aid even see comey letter jason chaffetz tweet'"
      ]
     },
     "execution_count": 33,
     "metadata": {},
     "output_type": "execute_result"
    }
   ],
   "source": [
    "corpus[0]"
   ]
  },
  {
   "cell_type": "code",
   "execution_count": 34,
   "metadata": {},
   "outputs": [
    {
     "data": {
      "text/plain": [
       "['hous dem aid even see comey letter jason chaffetz tweet',\n",
       " 'flynn hillari clinton big woman campu breitbart',\n",
       " 'truth might get fire',\n",
       " 'civilian kill singl us airstrik identifi',\n",
       " 'iranian woman jail fiction unpublish stori woman stone death adulteri',\n",
       " 'jacki mason hollywood would love trump bomb north korea lack tran bathroom exclus video breitbart',\n",
       " 'beno hamon win french socialist parti presidenti nomin new york time',\n",
       " 'back channel plan ukrain russia courtesi trump associ new york time',\n",
       " 'obama organ action partner soro link indivis disrupt trump agenda',\n",
       " 'bbc comedi sketch real housew isi caus outrag',\n",
       " 'russian research discov secret nazi militari base treasur hunter arctic photo',\n",
       " 'us offici see link trump russia',\n",
       " 'ye paid govern troll social media blog forum websit',\n",
       " 'major leagu soccer argentin find home success new york time',\n",
       " 'well fargo chief abruptli step new york time',\n",
       " 'anonym donor pay million releas everyon arrest dakota access pipelin',\n",
       " 'fbi close hillari',\n",
       " 'chuck todd buzzfe donald trump polit favor breitbart',\n",
       " 'monica lewinski clinton sex scandal set american crime stori',\n",
       " 'rob reiner trump mental unstabl breitbart',\n",
       " 'abort pill order rise latin american nation zika alert new york time',\n",
       " 'nuke un histor treati ban nuclear weapon',\n",
       " 'exclus islam state support vow shake west follow manchest terrorist massacr breitbart',\n",
       " 'humili hillari tri hide camera caught min ralli',\n",
       " 'andrea tantaro fox news claim retali sex harass complaint new york time',\n",
       " 'hillari clinton becam hawk new york time',\n",
       " 'chuck todd buzzfe eic publish fake news breitbart',\n",
       " 'bori johnson brexit leader fumbl new york time',\n",
       " 'texa oil field rebound price lull job left behind new york time',\n",
       " 'bayer deal monsanto follow agribusi trend rais worri farmer new york time',\n",
       " 'russia move ban jehovah wit extremist new york time',\n",
       " 'still danger zone januari th',\n",
       " 'open thread u elect',\n",
       " 'democrat gutierrez blame chicago gun violenc nra breitbart',\n",
       " 'avoid peanut avoid allergi bad strategi new york time',\n",
       " 'mri show detail imag week unborn babi breitbart',\n",
       " 'best kind milk dairi',\n",
       " 'ryan locht drop speedo usa retail new york time',\n",
       " 'conserv urg session clean obama civil right divis breitbart',\n",
       " 'intern inquiri seal fate roger ail fox new york time',\n",
       " 'press tv debat duff lebanon hezbollah aoun presid video',\n",
       " 'samsung combust galaxi note unveil new smartphon new york time',\n",
       " 'poland vow referendum migrant quota amidst eu pressur public voic heard breitbart',\n",
       " 'spark inner revolut',\n",
       " 'studi half car crash involv driver distract cell phone breitbart',\n",
       " 'trump elect spark individu collect heal',\n",
       " 'ep fade black jimmi church w laura eisenhow restor balanc video',\n",
       " 'cognit true islam book review',\n",
       " 'donald trump win elect biggest miracl us polit histori',\n",
       " 'mind eat way fight bing new york time',\n",
       " 'major potenti impact corpor tax overhaul new york time',\n",
       " 'wonder glp like day elect',\n",
       " 'maker world smallest machin award nobel prize chemistri new york time',\n",
       " 'massiv anti trump protest union squar nyc live stream',\n",
       " 'review lion bring tear lost boy wipe dri googl new york time',\n",
       " 'u gener islam state chemic attack impact u forc',\n",
       " 'juri find oregon standoff defend guilti feder conspiraci gun charg',\n",
       " 'clinton campaign stun fbi reportedli reopen probe hillari clinton email',\n",
       " 'penc speak anti abort ralli new york time',\n",
       " 'berni sander say media trump gutless polit coward',\n",
       " 'make briquett daili wast',\n",
       " 'treason nyt vow reded report',\n",
       " 'dress like woman mean new york time',\n",
       " 'ella brennan still feed lead new orlean new york time',\n",
       " 'press asia agenda obama tread lightli human right new york time',\n",
       " 'democrat percent chanc retak senat new york time',\n",
       " 'judg spank transgend obsess obama lie redflag news',\n",
       " 'u diplomat urg strike assad syria new york time',\n",
       " 'franken call independ investig trump putin crush breitbart',\n",
       " 'louisiana simon bile u presidenti race tuesday even brief new york time',\n",
       " 'turkey threaten open migrant land passag europ row dutch',\n",
       " 'huma weiner dog hillari',\n",
       " 'colin kaepernick start black panther inspir youth camp wow',\n",
       " 'trump immigr polici explain new york time',\n",
       " 'mari tyler moor mourn dick van dyke star new york time',\n",
       " 'poison',\n",
       " 'trump fan ralli across nation support presid new york time',\n",
       " 'fox biz report help bash clinton ralli cover trump pack event day',\n",
       " 'fiction podcast worth listen new york time',\n",
       " 'mike birbiglia tip make small hollywood anywher new york time',\n",
       " 'invest strategist forecast collaps timelin last gasp econom cycl come',\n",
       " 'venezuela muzzl legislatur move closer one man rule new york time',\n",
       " 'whether john mccain mitt romney donald trump democrat alway run war women tactic destroy republican candid',\n",
       " 'breitbart news daili trump boom breitbart',\n",
       " 'white hous confirm gitmo transfer obama leav offic',\n",
       " 'poll voter heard democrat elect candid breitbart',\n",
       " 'migrant confront judgment day old deport order new york time',\n",
       " 'n u yale su retir plan fee new york time',\n",
       " 'technocraci real reason un want control internet',\n",
       " 'american driver regain appetit ga guzzler new york time',\n",
       " 'hillari clinton build million war chest doubl donald trump new york time',\n",
       " 'trump catch sick report snuck interview priceless respons',\n",
       " 'senat contact russian govern week',\n",
       " 'imag perfectli illustr struggl dakota access pipelin',\n",
       " 'washington state take refuge muslim rest countri take refuge muslim breitbart',\n",
       " 'ncaa big keep watch eye texa bathroom bill breitbart',\n",
       " 'massiv espn financi subscrib loss drag disney first quarter sale breitbart',\n",
       " 'megyn kelli contract set expir next year prime big show new york time',\n",
       " 'teacher suspend allow student hit trump pinata cinco de mayo',\n",
       " 'break trump express concern anthoni weiner illeg access classifi info month ago truthfe',\n",
       " 'snap share leap debut investor doubt valu vanish new york time',\n",
       " 'clinton campaign chair dinner top doj offici one day hillari benghazi hear',\n",
       " 'tv seri first femal mlb pitcher can one low rate season breitbart',\n",
       " 'seek best fit women final four return friday sunday new york time',\n",
       " 'propos canadian nation bird ruffl feather new york time',\n",
       " 'review beyonc make lemonad marit strife new york time',\n",
       " 'trump ask sharp increas militari spend offici say new york time',\n",
       " 'waterg smoke gun email discuss clean obama hillari email',\n",
       " 'chapo trap hous new left wing podcast flagrant rip right stuff',\n",
       " 'taiwan respond china send carrier taiwan strait new york time',\n",
       " 'mother octob surpris hous card come tumbl',\n",
       " 'explos assang pilger interview us elect expect riot hillari win',\n",
       " 'telescop ate astronomi track surpass hubbl new york time',\n",
       " 'close afghan pakistani border becom humanitarian crisi new york time',\n",
       " 'tv anchor arriv white hous lunch donald trump breitbart',\n",
       " 'pelosi republican tell trump bring dishonor presid breitbart',\n",
       " 'beauti prehistor world earth wasteland',\n",
       " 'ignor trump news week learn new york time',\n",
       " 'donald trump unveil plan famili bid women vote new york time',\n",
       " 'montana democrat vote bill ban sharia law call repugn breitbart',\n",
       " 'monsanto tribun go happen',\n",
       " 'offici simon bile world best gymnast new york time',\n",
       " 'liter hurt brain read econom idioci emit trumpkin libertarian',\n",
       " 'u n secretari gener complain mass reject global favor nation',\n",
       " 'trump bollywood ad meant sway indian american voter hilari fail video',\n",
       " 'fbi find previous unseen hillari clinton email weiner laptop',\n",
       " 'year american journalist kill conspiraci theori syria proven fact',\n",
       " 'report illeg alien forego food stamp stay trump radar',\n",
       " 'make netherland great hahaha spread worldwid',\n",
       " 'four kill injur jerusalem truck ram terror attack',\n",
       " 'leader salut comrad newt brutal megyn sic kelli beatdown play game',\n",
       " 'student black colleg got beaten mace protest kkk david duke',\n",
       " 'despit strict gun control one child youth shot everi day ontario',\n",
       " 'rise internet fan bulli new york time',\n",
       " 'newli vibrant washington fear trump drain cultur new york time',\n",
       " 'fed hold interest rate steadi plan slower increas new york time',\n",
       " 'battl unesco',\n",
       " 'latest test white hous pull easter egg roll new york time',\n",
       " 'burlesqu dancer fire investig secret servic trump assassin tweet breitbart',\n",
       " 'clinton haiti',\n",
       " 'cuomo christi parallel path top troubl got new york time',\n",
       " 'top place world allow visit',\n",
       " 'new studi link fluorid consumpt hypothyroid weight gain wors',\n",
       " 'jame matti secretari offens',\n",
       " 'black church burn spray paint vote trump',\n",
       " 'sear agre sell craftsman stanley black amp decker rais cash new york time',\n",
       " 'takata chief execut resign financi pressur mount new york time',\n",
       " 'goodby good black sabbath new york time',\n",
       " 'teen geisha doll gang bust arm robberi breitbart',\n",
       " 'mohamad khwei anoth virginia man palestinian american muslim charg terror',\n",
       " 'price obamacar replac nobodi wors financi breitbart',\n",
       " 'va fail properli examin thousand veteran',\n",
       " 'trump famili alreadi sworn secreci fake moon land soon',\n",
       " 'sport writer nfl great jim brown decad civil right work eras say nice thing donald trump breitbart',\n",
       " 'watch tv excus republican skip donald trump convent new york time',\n",
       " 'open letter trump voter told like',\n",
       " 'comment power corpor lobbi quietli back hillari nobodi talk runsinquicksand',\n",
       " 'hijack end peac libyan airlin land malta new york time',\n",
       " 'like girl girl geniu new york time',\n",
       " 'scientist say canadian bacteria fossil may earth oldest new york time',\n",
       " 'pro govern forc advanc syria amid talk u russia cooper new york time',\n",
       " 'cancer agenc fire withhold carcinogen glyphos document',\n",
       " 'work walk minut work new york time',\n",
       " 'steve harvey talk hous presid elect trump new york time',\n",
       " 'coalit u troop fight mosul offens come fire',\n",
       " 'uk citizen war hero get cheap pre fab hous muslim colon get taxpay fund luxuri council home',\n",
       " 'vet fight war fed demand money back illeg refuge keep money',\n",
       " 'mr trump wild ride new york time',\n",
       " 'fbi director comey bamboozl doj congress clinton',\n",
       " 'food natur unclog arteri prevent heart attack',\n",
       " 'death two state solut',\n",
       " 'comment parent date asleep car cop arriv kill facespac',\n",
       " 'donald trump team show sign post elect moder new york time',\n",
       " 'miami beach tri tame raucou street fishbowl drink stay new york time',\n",
       " 'doctor mysteri found dead summit breakthrough cure cancer',\n",
       " 'donald trump unsink candid new york time',\n",
       " 'shock new mock hillari ad campaign warn take us war enlistforh fightforh dieforh',\n",
       " 'exclus famili slain border patrol agent brian terri say eric holder among real crimin respons',\n",
       " 'trump tell report wall work ask israel breitbart',\n",
       " 'america surviv next year',\n",
       " 'commission start press cleveland indian logo new york time',\n",
       " 'un plan implant everyon biometr id drill',\n",
       " 'trump attack senat credibl gorsuch comment new york time',\n",
       " 'clinton advisor lose leak email hillari illeg activ',\n",
       " 'art laffer paul ryan perfect right breitbart',\n",
       " 'donald trump blame econom crash',\n",
       " 'pokemon go player inadvert stop peopl commit suicid japan',\n",
       " 'california senat race tale divers flail g p new york time',\n",
       " 'exclus sourc say megyn kelli would welcom back fox news',\n",
       " 'break preced obama envoy deni extens past inaugur day new york time',\n",
       " 'brexit vote go monti python may offer clue new york time',\n",
       " 'blind mystic predict bad news trump',\n",
       " 'total vet fail left wing snowden fan girl realiti winner get access nsa secret',\n",
       " 'somalia u escal shadow war new york time',\n",
       " 'free care bless victim orlando nightclub attack new york time',\n",
       " 'durabl democrat counti countri could go trump',\n",
       " 'fed challeng rais rate may existenti new york time',\n",
       " 'russia intent attack anyon absurd say vladimir putin',\n",
       " 'f investig errant flight involv harrison ford new york time',\n",
       " 'fed rais key interest rate cite strengthen economi new york time',\n",
       " 'la expresi n lo siguient ya es la utilizada lo siguient en el castellano',\n",
       " 'trump berat news media new strategi need cover new york time',\n",
       " 'u drone strike target taliban leader new york time',\n",
       " 'u intellig expect al qaeda attack monday new york virginia texa',\n",
       " 'told cannabi great revers alzheim',\n",
       " 'report megyn kelli kick nbc show kardashian famili interview',\n",
       " 'local percent may rich think new york time',\n",
       " 'dr david duke mark collett uk collett explain duke trump victori would chang polit forev',\n",
       " 'statement senat well fargo chief deepli sorri new york time',\n",
       " 'cnn statement distanc network buzzfe fake news dossier breitbart',\n",
       " 'c e ponder new game trump rule new york time',\n",
       " 'spicer bradi stolen jersey anoth bad press breitbart',\n",
       " 'scaredi cat investig peopl enjoy fear new york time',\n",
       " 'left vision',\n",
       " 'showdown loom u question chines deal german chip design new york time',\n",
       " 'trump administr take harder tack trade china new york time',\n",
       " 'pew american trust level feder govern plummet histor low breitbart',\n",
       " 'islam state support former nation guardsman plead guilti terror charg virginia',\n",
       " 'spicer report go rais hand like big boy girl breitbart',\n",
       " 'leader applaud gorsuch confirm win pro life movement',\n",
       " 'newstick',\n",
       " 'french vogu march cover featur transgend model new york time',\n",
       " 'trump veer parti line gun control new york time',\n",
       " 'oligarchi prepar groundwork steal elect',\n",
       " 'ya hay reencuentro de operaci n triunfo que edicion de operaci n triunfo',\n",
       " 'chatsworth hous tale five centuri new york time',\n",
       " 'uncomfort love affair donald trump new england patriot new york time',\n",
       " 'john mccain withdraw support donald trump disclosur record new york time',\n",
       " 'strang unend limbo egypt hosni mubarak new york time',\n",
       " 'poverti rose u hous district obama presid',\n",
       " 'huma abedin seek fbi immun deal',\n",
       " 'singl mom escap friend zone one non date time new york time',\n",
       " 'boe suit futur spaceflight new spacesuit design breitbart',\n",
       " 'trump float oliv branch might keep part health law new york time',\n",
       " 'wapo tri compar elizabeth warren break senat rule milo shut violent riot breitbart',\n",
       " 'crumpl school bu leav chattanooga daze new york time',\n",
       " 'die came back life incred messag human',\n",
       " 'fight nation african american museum new york time',\n",
       " 'father manchest suicid bomber arrest libya breitbart',\n",
       " 'secret true leader',\n",
       " 'muslim demand local walk dog public violat sharia disrespect',\n",
       " 'hillari campaign bed pac staff donat k fbi agent wife investig',\n",
       " 'still tri flip elector colleg block trump win',\n",
       " 'al sharpton dem point appeal archi bunker trump voter breitbart',\n",
       " 'think mani doom sayer trump get offic',\n",
       " 'democrat jump session resign band wagon breitbart',\n",
       " 'alt right architect glenn beck open fire alt right grave threat republ audio tweet',\n",
       " 'politic justic protect hillari',\n",
       " 'north carolina satur surpris reel hurrican matthew new york time',\n",
       " 'live love submit memori new york time',\n",
       " 'achiev mind work medit cushion requir new york time',\n",
       " 'world first zero emiss hydrogen power passeng train unveil germani',\n",
       " 'confus chip credit card get line new york time',\n",
       " 'brook trump side foreign leader us presid israel russia breitbart',\n",
       " 'toxic air home get rid natur',\n",
       " 'connecticut reader report record voter registr inspir trump',\n",
       " 'germani react merkel trump visit could lot wors new york time',\n",
       " 'justin rose outduel henrik stenson golf gold medal new york time',\n",
       " 'iceland water cure new york time',\n",
       " 'shorten l train shutdown month new york time',\n",
       " 'time presid decid new york time',\n",
       " 'u n relief offici call crisi aleppo apex horror new york time',\n",
       " 'berkeley treat violent anti speech left like kkk',\n",
       " 'statist propaganda mani syrian us regim chang kill',\n",
       " 'self help guru jame altuch own thing new york time',\n",
       " 'trump religi liberti order give session major leeway breitbart',\n",
       " 'demoledor amparo contra salgado keiko congresista',\n",
       " 'era trump china presid champion econom global new york time',\n",
       " 'sad saga john walker lindh rebel without clue',\n",
       " 'court disagre michigan vote recount new york time',\n",
       " 'berni sander feud democrat leadership heat new york time',\n",
       " 'shortest power explan trump victori ever seen',\n",
       " 'russia look popul far east wimp need appli new york time',\n",
       " 'johnson amend trump vow destroy explain new york time',\n",
       " 'donald trump march life full support',\n",
       " 'polic offici found dead long island suicid suspect new york time',\n",
       " 'radic chang store world global market readi',\n",
       " 'like make showbiz best friend new york time',\n",
       " 'trump nomin neil gorsuch suprem court new york time',\n",
       " 'bidder cast doubt serious mexican border wall project',\n",
       " 'stake us elect',\n",
       " 'israel approv addit fund settlement west bank new york time',\n",
       " 'tx gov abbott sign legisl could put sheriff sanctuari citi jail breitbart',\n",
       " 'donald trump hold thank ralli cincinnati announc pick defens secretari new york time',\n",
       " 'lawmak look bipartisanship health care new york time',\n",
       " 'insid conserv push state amend constitut new york time',\n",
       " 'donald trump tell n r hillari clinton want let violent crimin go free new york time',\n",
       " 'pope franci trump japan tuesday brief new york time',\n",
       " 'mayorsstand day tout support illeg immigr',\n",
       " 'trump campaign celebr',\n",
       " 'democrat drag jeff session confirm fight breitbart',\n",
       " 'break news podesta brother pedo ring mr trump drain swamp v guerrilla economist',\n",
       " 'la frase destacada del debat de investidura',\n",
       " 'confus jihad hirabah build peac world',\n",
       " 'lazi liber journalist smear bannon',\n",
       " 'australia close detent center manu island still accept asylum seeker new york time',\n",
       " 'politico hillari clinton run breitbart',\n",
       " 'giant lynx make ador sound whenev human rub face',\n",
       " 'minnesota cop found guilti philando castil shoot trial',\n",
       " 'million american kill minut',\n",
       " 'wayn madsen cia alway serv interest wall street',\n",
       " 'novemb daili contrarian read',\n",
       " 'flashback report obama campaign rep talk iran hama',\n",
       " 'lesseroftwoevil',\n",
       " 'aya cash first time ate veget new york time',\n",
       " 'trump advis say isra settlement illeg',\n",
       " 'serena william prevail open problem new york time',\n",
       " 'soul man sam moor honor perform trump inaugur',\n",
       " 'ferrel came back bush destroy trump video',\n",
       " 'chines govern concern tough talk trump cabinet breitbart',\n",
       " 'billionair report seiz hong kong hotel taken china new york time',\n",
       " 'easi know link',\n",
       " 'homebodi find ultim home offic new york time',\n",
       " 'ann coulter unload paul ryan deepli unpopular obamacar bill breitbart',\n",
       " 'transgend bathroom debat turn person vermont high school new york time',\n",
       " 'obama hillari want libya gaddafi toppl kill',\n",
       " 'alert former soro associ warn pro wrong gold silver skyrocket like',\n",
       " 'hillari panick fbi weiner email',\n",
       " 'chaotic minut trump defend fine tune machin new york time',\n",
       " 'one polic shift patrol anxiou america new york time',\n",
       " 'fight ghost fascist aid real one',\n",
       " 'monday even brief brexit abort game throne new york time',\n",
       " 'eu increas brexit bill demand billion billion',\n",
       " 'arianna huffington sleep revolut start home new york time',\n",
       " 'iranian missil accident destroy iranian ship aim syria',\n",
       " 'sonoma counti california vote creat largest gmo free zone america',\n",
       " 'fbi comey wikileak intellig porn journal breitbart',\n",
       " 'clare waight keller name first femal design givenchi new york time',\n",
       " 'realiti face black canadian nation shame',\n",
       " 'top nfl draft prospect caleb brantley charg punch woman face breitbart',\n",
       " 'video pacif crest trail associ lavoy finicim murder',\n",
       " 'life lesson man seen death',\n",
       " 'trump g p work win repeal obama health act new york time',\n",
       " 'atlant goldberg confid trump handl matter life death breitbart',\n",
       " 'orthodox rabbi support trump',\n",
       " 'nuclear tension us russia reach danger point',\n",
       " 'gambia join south africa burundi exodu intern crimin court',\n",
       " 'peyton man golf presid trump sunday',\n",
       " 'obama urg donald trump send signal uniti minor group women new york time',\n",
       " 'like miracl woman give birth use ovari frozen sinc childhood new york time',\n",
       " 'uconn recip success run run run new york time',\n",
       " 'assang final afford opportun give statement rape accus',\n",
       " 'hillari puppet show much hillari care god omiss word',\n",
       " 'stock market gone high problem new york time',\n",
       " 'john kerri reject suggest u involv turkey coup new york time',\n",
       " 'trump aid stephen miller u absolut sovereign right determin cannot enter countri breitbart',\n",
       " 'year old russian girl speak languag',\n",
       " 'power corpor lobbi quietli back hillari nobodi talk',\n",
       " 'maintain sunni spirit face hardship new york time',\n",
       " 'rush limbaugh comey fire epic troll trump dem breitbart',\n",
       " 'twitter sue govern block unmask account critic trump new york time',\n",
       " 'warrior resili home cruis cavali new york time',\n",
       " 'comey letter clinton email subject justic dept inquiri new york time',\n",
       " 'spain malta u uk pressur refus allow russian carrier group refuel port',\n",
       " 'review radiohead moon shape pool patient perfection new york time',\n",
       " 'man militar polic stand rock work',\n",
       " 'woman arrest properti land stolen dapl',\n",
       " 'pulitz prize new york time win daili news propublica share public servic award new york time',\n",
       " 'vanquish wit takeov bush clinton attend donald trump inaugur breitbart',\n",
       " 'specul possibl obama pardon edward snowden bow bergdahl chelsea man breitbart',\n",
       " 'cheesi mash potato soul new york time',\n",
       " 'unprincipl wapo editor damn comey critic join',\n",
       " 'nation wreck immigr civil war brew good swede turn muslim migrant violenc rape murder',\n",
       " 'man shot dead offic crucifix gun polic say new york time',\n",
       " 'exclus rep jim jordan trump first day think great start breitbart',\n",
       " 'haley attack syria one presid finest hour breitbart',\n",
       " 'justin bieber defec ador irish fan hotel window',\n",
       " 'cancer agenc fire withhold carcinogen glyphos document',\n",
       " 'gianno caldwel claim hillari care black vote black live',\n",
       " 'isi use ramadan call new terrorist attack new york time',\n",
       " 'daili show mock mahatma blondi megyn kelli nbc debut',\n",
       " 'health care bill failur part art deal breitbart',\n",
       " 'lewandowski comey liar look sign major book deal breitbart',\n",
       " 'kimberli guilfoyl discuss potenti white hous press secretari job interview',\n",
       " 'clinton campaign chairman john podesta invit occult spirit cook dinner marina abramovi',\n",
       " 'obama coalit crumbl leav open trump new york time',\n",
       " 'pregnanc chang brain way may help mother new york time',\n",
       " 'fema open loan window red cross tri shut shelter',\n",
       " 'gaiaport interweb gaia energet strengthen',\n",
       " 'scarborough trump poop pant call modern art breitbart',\n",
       " 'cook invest time work new york time',\n",
       " 'bad news jackson famili woman leak star sick k sex secret',\n",
       " 'gorsuch london republican parti thursday even brief new york time',\n",
       " 'emma morano last person born die breitbart',\n",
       " 'loserpalooza craziest scene anti trump protest breitbart',\n",
       " 'trump victori mean africa',\n",
       " 'vision life mar earth depth new york time',\n",
       " 'obama cancel talk rodrigo dutert philippin say regret slur new york time',\n",
       " 'new jersey increas ga tax end long polit stalem new york time',\n",
       " 'abc manchest attack like inflam anti islam sentiment breitbart',\n",
       " 'hidden plain sight global depopul agenda',\n",
       " 'job american new york time',\n",
       " 'sander ask obama interven dakota access pipelin disput',\n",
       " 'googl add job section search engin includ employ rate breitbart',\n",
       " 'cri jordan meme die new york time',\n",
       " 'dem rep nchez trump use fear muslim immigr promot polici undermin valu breitbart',\n",
       " 'announc saker commun german saker blog vineyard saker',\n",
       " 'shoot victim famili watch gun measur stall new york time',\n",
       " 'imag reveal crash schiaparelli mar lander',\n",
       " 'grassroot coalit share mani question concern betsi devo senat',\n",
       " 'octob daili contrarian read',\n",
       " 'trump inaugur ball work begin play game breitbart',\n",
       " 'trump choic stephen bannon nod anti washington base new york time',\n",
       " 'media outrag white hous exclus fake news breitbart',\n",
       " 'benni morri unten denial ethnic cleans palestin',\n",
       " 'obama hillari clinton pardon could heal divid nation',\n",
       " 'except handl',\n",
       " 'nota conceptu para la presidencia de rusia',\n",
       " 'respons philippin presid fatal blast rais fear new york time',\n",
       " 'david adjay design museum speak differ languag new york time',\n",
       " 'bulletin righteou jew trump rule ruin gop establish etc item',\n",
       " 'britain reduc terror level one notch sever terror cell arrest',\n",
       " 'mute alon never short kind word friend new york time',\n",
       " 'iranian militari command claim rogu nation send elit fighter infiltr us europ',\n",
       " 'account',\n",
       " 'watch muslim student claim non believ kill islam countri breitbart',\n",
       " 'yemen yet anoth fals flag protect saudi us interest middl east new eastern outlook',\n",
       " 'watch muslim palestinian declar follow prophet muhammad kill christian jew',\n",
       " 'street dog kerala call upon superdog krypto rescu human',\n",
       " 'israel track anti govern journalist facebook',\n",
       " 'new alaska law take first step common core',\n",
       " 'key baylor footbal execut demarko butler fire text scandal breitbart',\n",
       " 'calgari airport arriv yyc',\n",
       " 'georg michael wrestl fame frank sinatra advic new york time',\n",
       " 'sharon old laureat sexual scrutin bodi ode new york time',\n",
       " 'blue collar elect shock liber media',\n",
       " 'die new york time',\n",
       " 'polic fire rubber bullet pipelin protest',\n",
       " 'ann coulter hit suppos gay icon kathi griffin isi crib antic',\n",
       " 'contamin food china enter u organ label',\n",
       " 'ten famou peopl read summer new york time',\n",
       " 'hillari clinton knew year ago anthoni weiner pedophil wikileak',\n",
       " 'million stairway nowher far west side new york time',\n",
       " 'cyber war trifl catastroph inform',\n",
       " 'presid putin ask us stop provok russia',\n",
       " 'inquiri cloud de blasio bid come strong manag race new york time',\n",
       " 'us drone strike afghanistan kill wound sever civilian',\n",
       " 'bobbi hutcherson vibraphonist colorist rang sound die new york time',\n",
       " 'amnesti advoc boycott agenc meet pro american advoc invit breitbart',\n",
       " 'project verita robert creamer illeg foreign wire transfer caught tape',\n",
       " 'ex flotu michel obama trump want feed crap kid',\n",
       " 'south sudan slide closer war gunfir rumbl capit new york time',\n",
       " 'nation mood focu group reflect angri divid america',\n",
       " 'bankrupt puerto rico vote u statehood breitbart',\n",
       " 'overwhelm brexit basic new york time',\n",
       " 'seattl gay mayor accus sexual molest teen breitbart',\n",
       " 'gender fluiditi runway new york time',\n",
       " 'us nato attack putin militari drill russia world war red alert kopya',\n",
       " 'new clinton email came underag sex pest anthoni weiner',\n",
       " 'montana bear attack lesson hope surviv first aid new york time',\n",
       " 'best america new york time',\n",
       " 'pecan step pie plate new york time',\n",
       " 'barack obama plagiar tell word matter breitbart',\n",
       " 'lower back ach activ wait new guidelin say new york time',\n",
       " 'sleep hour peopl die new york time',\n",
       " 'veep season episod littl danc new york time',\n",
       " 'dr oz trump offer placebo transpar new york time',\n",
       " 'comment gold medalist wrestler get violent polic cop choos engag deadli forc buck roger',\n",
       " 'one year water orang counti four day breitbart',\n",
       " 'doctor enemi afghan forc target f hospit new york time',\n",
       " 'year old hebrew mention jerusalem found',\n",
       " 'spirit cook disturb podesta email yet warn graphic content',\n",
       " 'donald trump misstep risk put ceil support swing state new york time',\n",
       " 'green parti margaret flower challeng us senat debat maryland undemocrat',\n",
       " 'offic rescu drown deer pool quick think',\n",
       " 'polic suspect punch armi veteran steal servic dog outsid home bronx breitbart',\n",
       " 'yike megyn kelli receiv rude awaken remind replac',\n",
       " 'iran send elit irgc warfight europ unit state prepar battl',\n",
       " 'hillari endors donald trump presid accord wikileak',\n",
       " 'woodward trump dossier garbag document intellig chief apolog trump breitbart',\n",
       " 'emmi nomin traci morgan emot return saturday night live new york time',\n",
       " 'trump pick mick mulvaney south carolina congressman budget director new york time',\n",
       " 'donald trump el primer president naranja de lo estado unido',\n",
       " 'attorney gener loretta lynch plead fifth',\n",
       " 'russia u missil defens pose deep risk secur asia',\n",
       " 'washington plan b syria realli mean',\n",
       " 'upset brexit british jew look germani new york time',\n",
       " 'girl ask boyfriend give iphon use money buy hous',\n",
       " 'amnesti intern slam obama gov kill civilian syria',\n",
       " 'find flock rural writer book club new york time',\n",
       " 'venezuela crisi enter danger phase maduro foe go milit',\n",
       " 'emigr super bloc part viii quasi legal coup hillari clinton inform oper elect',\n",
       " 'could question ask love one vote way new york time',\n",
       " 'bbc ask realli happen clinton haiti',\n",
       " 'trump pick thoma bossert top counterterror advis new york time',\n",
       " 'come unglu',\n",
       " 'trump jr suspici help arizona woman push stall car use photo op video',\n",
       " 'suicid chicago polic offic skyrocket',\n",
       " 'think suv safe shock video',\n",
       " 'peopl tortur kill sufi muslim shrine pakistan',\n",
       " 'comment architectur clever arrang brick man transform heal process architectur clever arrang brick man transform heal process new earth media',\n",
       " 'hybrid war strategi africa introduct',\n",
       " 'julian assang speak prerecord rt interview',\n",
       " 'watch israel love hollywood actor issu major plea america minut rock elect',\n",
       " 'n l donald trump botch independ day moment new york time',\n",
       " 'exclus congresswoman marsha blackburn say elimin net neutral preserv open internet breitbart',\n",
       " 'attach year round greenhous home',\n",
       " 'sheriff clark obama final day obama like tenant evict properti gonna trash place way door video',\n",
       " 'weird ban women iran',\n",
       " 'end game close clinton deep state turn',\n",
       " 'trump fight chanc establish new eastern outlook',\n",
       " 'trade stanc toward china clinton trump signal chill new york time',\n",
       " 'review secret life pet amus miss opportun new york time',\n",
       " 'first case demonetis relat hiv man unprotect sex atm machin',\n",
       " 'thing need know dakota access pipelin protest',\n",
       " 'koch brother battl prevent dark money disclosur south dakota',\n",
       " 'milo berkeley event evacu mask protest light fire storm venu breitbart',\n",
       " 'authoritarian west demon strong popular leader',\n",
       " 'swedish journo sweden collaps without illeg migrant',\n",
       " 'promis internet career vine dead write newsbiscuit cheer',\n",
       " 'iowa trump voter unfaz controversi new york time',\n",
       " 'radic american grown marxist terror group made announc januari th conserv daili post',\n",
       " 'guardian opinion writer trump bannon count terrorist massacr',\n",
       " 'putin pro trump onlin troll spill bean samantha bee',\n",
       " 'along mosul front line desper civilian dug troop fighter new york time',\n",
       " 'second avenu subway open train delay end happi tear new york time',\n",
       " 'year old cher don see top nippl pasti billboard award',\n",
       " 'report stop nine percent illeg alien border crosser would pay trump border wall breitbart',\n",
       " 'ice union issu final warn voter',\n",
       " 'elit new york polic unit rehears terrorist attack new york time',\n",
       " 'trump hollywood star vandal out shameless new video taunt polic seek',\n",
       " 'california today view san francisco lean tower space new york time',\n",
       " 'matthew trump speech putin say america first hitlerian background breitbart',\n",
       " 'vladimir putin valdai intern discuss club shape world tomorrow vladimir putin',\n",
       " 'chines social media rage unit airlin controversi breitbart',\n",
       " 'america better without border',\n",
       " 'chao terror tie make venezuela direct threat usa former un secur council presid say breitbart',\n",
       " 'rick ross documentari video doubl ad checker new york time',\n",
       " 'oil spill pacif ocean sinc last month total ignor',\n",
       " 'podesta mill go dump email',\n",
       " 'thoughtlessli disbeliev conspiraci theori need read',\n",
       " 'dr david duke dr slatteri expos hillari treason trump duke win',\n",
       " 'russian frigat syrian cost blast terrorist hq cruis missil video',\n",
       " 'hillari clinton like covert action stay covert transcript show new york time',\n",
       " 'us kurdish troop involv invad isi capit raqqa',\n",
       " 'awaken human await fulli script end controversi elect day near',\n",
       " 'georg soro back climat march bring celeb nation mall swelter saturday breitbart',\n",
       " 'edward snowden long strang journey hollywood new york time',\n",
       " 'black trump man belong murder cult',\n",
       " 'bill clinton lover call ruthless hillari warden',\n",
       " 'russia cina e arabia saudita domano l egemonia del dollaro di ariel noyola rodr guez',\n",
       " 'third month india cash shortag begin bite new york time',\n",
       " 'one trump administr posit gain popular go shock breitbart',\n",
       " 'bill clinton said white middl class life expect declin obama year',\n",
       " 'furiou eric holder issu dire warn comey partisan smear',\n",
       " 'memo trump action day',\n",
       " 'chao desper thousand flee aleppo amid govern advanc new york time',\n",
       " 'wildfir empti fort mcmurray alberta oil sand region new york time',\n",
       " 'schumer session investig seem violat recus breitbart',\n",
       " 'amid divis march washington seek bring women togeth new york time',\n",
       " 'zoe saldana trump hollywood got cocki becam arrog bulli',\n",
       " 'anti establish trump plan appoint goldman sach georg soro insid',\n",
       " 'cholesterol drug men gonad',\n",
       " 'trump flynn treat unfair fake media illeg leak breitbart',\n",
       " 'california today virtual realiti investig trayvon martin case new york time',\n",
       " 'nearli decad later apolog lynch georgia new york time',\n",
       " 'marcia clark final moment savor emmi new york time',\n",
       " 'brexit speech theresa may outlin clean break u k new york time',\n",
       " 'man hate black men found victim care other new york time',\n",
       " 'michael flynn fail disclos incom russia link entiti new york time',\n",
       " 'feder judg throw convict c sniper four life sentenc',\n",
       " 'donald trump obama thanksgiv weekend brief new york time',\n",
       " '',\n",
       " 'vine celebr life death app clip',\n",
       " 'squatti potti ceo griffin imag divis disturb decis realli',\n",
       " 'thing let go new year',\n",
       " 'comment polic union post pic hillari arrest facebook dan',\n",
       " 'koch brother secretli alli w georg soro hillari clinton',\n",
       " 'trump expand search secretari state new york time',\n",
       " 'teacher yr old wait trump elect go deport muslim',\n",
       " 'cost choic top concern health insur custom new york time',\n",
       " 'shaq announc plan run sheriff breitbart',\n",
       " 'illeg immigr cross border vote',\n",
       " 'pirat fail take helm iceland pirat parti gain mileag enough steadi ship alon',\n",
       " 'billionair build davo new york time',\n",
       " 'run danger alaskan trail new york time',\n",
       " 'la pel cula de su vida descubr que ha llevado siempr un trozo de lechuga entr lo dient',\n",
       " 'dem win congression basebal game give trophi republican steve scalis breitbart',\n",
       " 'franc present strict gun control paper tiger breitbart',\n",
       " 'china russia silk road commod nixon massiv bull market gold silver',\n",
       " 'troubl quarterback johnni manziel appear shop mall sign autograph next super bowl breitbart',\n",
       " 'bob dylan accus lift part nobel prize speech sparknot',\n",
       " 'blimp crash e coli contamin snakebitten u open wit spectat death breitbart',\n",
       " 'public employe shadow world american carnag',\n",
       " 'espn lz granderson justifi think kaepernick blackbal nobodi sign breitbart',\n",
       " 'prescript painkil death drop state legal marijuana',\n",
       " 'low growth world get new york time',\n",
       " 'istanbul donald trump benjamin netanyahu morn brief new york time',\n",
       " 'hitler hillari',\n",
       " 'dalian wanda hollywood event product new york time',\n",
       " 'comment pm water cooler timmi',\n",
       " 'breakdown clinton money machin',\n",
       " 'california forefront climat fight back trump new york time',\n",
       " 'g e year old softwar start new york time',\n",
       " 'hillari clinton hamilton would enough new york time',\n",
       " 'brain concuss children adult know vaccin damag',\n",
       " 'trump great paul craig robert',\n",
       " 'hillari frantic dirti secret implod get wors prison bombshel',\n",
       " 'rent car know rule road new york time',\n",
       " 'impeach polit brazil someth sinist new york time',\n",
       " 'trump interview moder view defi convent new york time',\n",
       " 'review sweetbitt bright light big citi restaur set new york time',\n",
       " 'gonzaga beat south carolina final four shot anoth first new york time',\n",
       " 'gorka trump interventionist command chief noth chang breitbart',\n",
       " 'thank fbi clinton email investig shift poll number significantli trump favor',\n",
       " 'race class dictat republican futur',\n",
       " 'gorsuch scalia lion law judg look law demand prefer breitbart',\n",
       " 'nc state provid student post elect comfort food therapi',\n",
       " 'iraqi troop push mosul kill across iraq',\n",
       " 'pregnant women turn marijuana perhap harm infant new york time',\n",
       " 'biggest winner loser u presidenti elect',\n",
       " 'trump psychic listen word one year ago look happen',\n",
       " 'mccain trump attack press dictat get start breitbart',\n",
       " 'judgment day one reason everi christian jew america vote donald trump',\n",
       " 'coup stolen elect',\n",
       " '',\n",
       " 'thing need know black dakota access pipelin protest',\n",
       " 'germani iraqi asylum seeker convict rape chines student',\n",
       " 'teenag boy knock classmat assault femal teacher face epic',\n",
       " 'take bring hillari clinton justic',\n",
       " 'ice round crimin alien texa capit',\n",
       " 'elect hate grief new stori',\n",
       " 'hillari question michel obama help',\n",
       " 'keith vaz british lawmak quit senior post amid sex drug scandal new york time',\n",
       " 'comment sunday devot whole univers grain sunday devot whole univers grain fellowship mind kommonsentsjan',\n",
       " 'donald trump syria emperor akihito morn brief new york time',\n",
       " 'hell frozen michel obama made hillari destroy move twitter',\n",
       " 'flynn critic call nuclear scientist miss usa dumb diss femin call health care privileg breitbart',\n",
       " 'hampshir colleg student accus assault basketbal player wear hair braid claim cultur appropri breitbart',\n",
       " 'obamamomet toxic legaci rule lawless',\n",
       " 'simon manuel gold rippl beyond pool new york time',\n",
       " 'vote machin program order steal elect',\n",
       " 'redraw tree life scientist discov new bacteria group stun microbi divers underground',\n",
       " 'trump putin destroy isi',\n",
       " 'photo game camera catch glimps possibl antler buck',\n",
       " 'turkey relat europ sink amid quarrel netherland new york time',\n",
       " 'wikileak document reveal unit nation interest ufo video',\n",
       " 'blue state blue deliber politic intimaci',\n",
       " 'clare hollingworth report broke news world war ii die new york time',\n",
       " 'north miami polic offic shoot man aid patient autism new york time',\n",
       " 'path total dictatorship america shadow govern silent coup',\n",
       " 'effort curb polic abus mix record uncertain futur new york time',\n",
       " 'signal major bottom gold silver',\n",
       " 'hey ho old england embrac punk rock year later new york time',\n",
       " 'cano reek genocid theft white privileg say canadian professor',\n",
       " 'illeg immigr advoc pledg resist deport trump',\n",
       " 'cdc scientist confirm donald trump right vaccin autism',\n",
       " 'breitbart news daili drain swamp breitbart',\n",
       " 'trump media frankenstein monster',\n",
       " 'watch toni romo say goodby dalla cowboy instagram video breitbart',\n",
       " 'global far right conspiraci theori buoy trump new york time',\n",
       " 'georgia father convict murder toddler death hot car new york time',\n",
       " 'richard boll die wrote color parachut new york time',\n",
       " 'stranahan steve bannon nail media fight trump breitbart',\n",
       " 'texa elector expect massiv corrupt relat elector colleg vote',\n",
       " 'guilti power nullif counteract govern tyranni',\n",
       " 'trillion new debt day',\n",
       " 'tori councillor say homeless peopl elimin',\n",
       " 'review hillbilli elegi tough love analysi poor back trump new york time',\n",
       " 'crimin chief',\n",
       " 'govern lie movi',\n",
       " 'trump brexit defeat global anyway',\n",
       " 'face congress sport offici begin confront sexual abus new york time',\n",
       " 'airbnb end fight new york citi fine new york time',\n",
       " 'big pharma martin shkreli suspend twitter breitbart',\n",
       " 'next big tech corridor seattl vancouv planner hope new york time',\n",
       " 'evid robot win race american job new york time',\n",
       " 'see africa road new york time',\n",
       " 'happen hip hop hillari goe dead broke brace',\n",
       " 'bill maher high trump state free speech new era new york time',\n",
       " 'l p g tour donald trump complic new york time',\n",
       " 'legend art cashin trump presid new world order gold brexit great depress see panic',\n",
       " 'fl sheriff day goe arrest lot illeg alien prey peopl breitbart',\n",
       " 'donald trump threaten cancel berkeley feder fund riot shut milo event',\n",
       " '',\n",
       " 'bill herz last war world broadcast crew die new york time',\n",
       " 'gari johnson equat syria death caus assad west new york time',\n",
       " 'republican senat bill defund un anti israel resolut',\n",
       " 'rose evanski pioneer women hairstyl die new york time',\n",
       " 'blackston saudi arabia announc billion invest u infrastructur breitbart',\n",
       " 'satur fat heart diseas greatest scam histori medicin',\n",
       " 'dem sen merkley gorsuch nomin court pack scheme turn nomin breitbart',\n",
       " 'four common mistak burn wood',\n",
       " 'push internet privaci rule move statehous new york time',\n",
       " 'madonna gave surpris pop concert support clinton new york time',\n",
       " 'trump support plan anti trump ralli lack tax reform',\n",
       " 'british healthcar offer glimps futur obamacar',\n",
       " 'trump iranian presid rouhani better care breitbart',\n",
       " 'break sec defens carter attempt fool american public veteran caught red hand',\n",
       " 'putin advis take credit trump victori mayb help bit wikileak',\n",
       " 'warren buffett stake suggest appl grown new york time',\n",
       " 'fbi clinton email investig shift poll number significantli trump favor',\n",
       " 'hillari horrifi pic surfac overnight want',\n",
       " 'paul lepag governor main say quit new york time',\n",
       " 'colorado radio station paul martin interview dave hodg elect fraud stand rock',\n",
       " 'bill clinton want call someth complet ridicul hillari elect',\n",
       " 'son death salli mann stage haunt show new york time',\n",
       " 'trump team link russia crisscross washington new york time',\n",
       " 'north korean arrest kill kim jong un half brother new york time',\n",
       " 'surgeon admit mammographi outdat harm women',\n",
       " 'war street pari arm migrant fight run battl french capit',\n",
       " 'oscar voter meryl streep nomin anti trump speech',\n",
       " 'texa enact anti sharia law',\n",
       " 'chicago polic board chair windi citi need feder help turn tide crime breitbart',\n",
       " 'look beyond novemb th song oligarchi doom',\n",
       " 'neil young celebr st birthday perform stand rock',\n",
       " 'exclus amid paul ryan obamacar push mississippi chri mcdaniel prep potenti senat run breitbart',\n",
       " 'boom short list peopl inspir michel obama',\n",
       " 'artist go boycott grammi face fallout fraught award new york time',\n",
       " 'video idiot destroy trump hollywood star get bad news second later',\n",
       " 'elit want global economi collaps',\n",
       " 'best health benefit sweat',\n",
       " 'senat confirm scott pruitt e p head new york time',\n",
       " 'cricket snake crab mix fact fraud new york subway new york time',\n",
       " 'session potenti deputi face stern test russia inquiri new york time',\n",
       " 'suicid squad top box offic second weekend new york time',\n",
       " 'health insur plan rate hike obamacar exchang breitbart',\n",
       " 'look like someon think democrat ohio full manur',\n",
       " 'syrian war report novemb govt forc relaunch offens oper insid outsid aleppo',\n",
       " 'mysteri solv get hillari clinton get movin twitchi com',\n",
       " 'senat narrowli pass rollback obama era auto r rule new york time',\n",
       " 'cramp costli bay area cri build babi build new york time',\n",
       " 'champion optim obama hail clinton polit heir new york time',\n",
       " 'fiona appl releas trump protest chant new york time',\n",
       " 'susan rice u must integr lgbt right gov foreign polici',\n",
       " 'trump organ move avoid possibl conflict interest new york time',\n",
       " 'sweden brink polic forc push break point violenc amid migrant influx',\n",
       " 'comment hemp vs cotton ultim showdown hemp readdress cannabi kuebiko co',\n",
       " 'jare kushner trump son law clear serv advis new york time',\n",
       " 'fisherman face life prison catch worth cocain sell breitbart',\n",
       " 'step ring roll punch new york time',\n",
       " 'adnan sy serial podcast get retrial murder case new york time',\n",
       " 'scientist say weird signal space probabl alien',\n",
       " 'u swimmer disput robberi claim fuel tension brazil new york time',\n",
       " 'way take self care vacat new york time',\n",
       " 'economist sign letter urg america vote donald trump',\n",
       " 'campaign long expens chaotic mayb good thing new york time',\n",
       " 'alien megastructur star target million seti search',\n",
       " 'brazen kill myanmar lawyer came spar militari new york time',\n",
       " 'jane pauley back new york time',\n",
       " 'deutsch bank consid altern pay cash bonu',\n",
       " 'danni dyer footbal foul up dvd second',\n",
       " 'lack oxford comma could cost main compani million overtim disput new york time',\n",
       " 'european parliament committe consid legal right robot breitbart',\n",
       " 'rex tillerson aggress dealmak whose tie russia may prompt scrutini new york time',\n",
       " 'fbi conduct new investig email clinton privat illeg server',\n",
       " 'heart mine us empir cultur industri',\n",
       " 'report megyn trash trump newt murdoch announc replac avail',\n",
       " 'russian scientist track sea lion space',\n",
       " 'seiz definit popul reuter warn us chao come',\n",
       " 'seaworthi readi earli unveil new york time',\n",
       " 'donald trump add k mcfarland nation secur team new york time',\n",
       " 'snowstorm bring wintri mix slush gripe new york time',\n",
       " 'republican wilder tillerson thursday even brief new york time',\n",
       " 'review bryan cranston shine lyndon johnson way new york time',\n",
       " 'samsung urg consum stop use galaxi note batteri fire new york time',\n",
       " 'elect result discuss presidenti elect open thread',\n",
       " 'ag lynch told fbi director comey go public new clinton email investig',\n",
       " 'donald trump rise white ident polit',\n",
       " 'red blue divid six view america new york time',\n",
       " 'franc identifi nd man attack church kill priest new york time',\n",
       " 'dreamer arrest nationwid gang crackdown',\n",
       " 'maxin water american public get weari trump impeach yet breitbart',\n",
       " 'wwn horoscop',\n",
       " 'deport italian mobster caught sneak across u mexico border',\n",
       " 'leak audio hillari clinton push rig palestin elect',\n",
       " 'iranian saudi proxi struggl tore apart middl east new york time',\n",
       " 'lavrov kerri discuss syrian settlement',\n",
       " 'l influenc de usa et de l otan dan le rapport de l ue avec la chine manlio dinucci',\n",
       " 'open border group gird h b fight',\n",
       " 'weinerg expos darker dirtier secret imagin',\n",
       " 'trump elect break chain polit correct',\n",
       " 'whitehous gov take climat page put america first energi plan breitbart',\n",
       " 'iran warn presid elect trump mess sweetheart nuclear deal obama',\n",
       " 'toni perkin trump eo affirm jefferson doctrin separ church state',\n",
       " 'moon fell heaven',\n",
       " 'mom star launch campaign plan parenthood',\n",
       " 'assad lesson aleppo forc work consequ new york time',\n",
       " 'penc bossert bannon demot continu play import polici role breitbart',\n",
       " 'bundi ranch occupi acquit count challeng corrupt bureau land manag',\n",
       " 'report googl face fine billion eu antitrust case breitbart',\n",
       " 'ask thom york write cover quot book',\n",
       " 'internet flasher',\n",
       " 'gretchen carlson suit aim retali discrimin new york time',\n",
       " 'googl launch ai program detect hate speech breitbart',\n",
       " 'poll show hillari lead useless mislead cartoon',\n",
       " 'last second lane merger good traffic new york time',\n",
       " 'macau skip casino embrac past new york time',\n",
       " 'montreal ungainli unlov christma tree new york time',\n",
       " 'photo jupit nasa spacecraft near far new york time',\n",
       " 'trump labor pick andrew puzder critic minimum wage increas new york time',\n",
       " 'nico rosberg take formula one driver titl despit lewi hamilton win abu dhabi new york time',\n",
       " 'sensori isol tank taught brain new york time',\n",
       " 'chelsea handler botch tweet attack trump grandchild',\n",
       " 'report trump move tax reform plan without speaker paul ryan breitbart',\n",
       " 'ag jeff session unveil program acceler deport imprison illeg breitbart',\n",
       " 'former us attorney dc new hillari email probe result revolt insid fbi',\n",
       " 'keep appear ruin former dalla banker new york time',\n",
       " 'sesam seed knee osteoarthr',\n",
       " 'white cop interact black real life',\n",
       " 'pennsylvania republican push ban privat gun sale breitbart',\n",
       " 'review warcraft orc differ domain fight heart new york time',\n",
       " 'good peopl share bad info need fact check click share',\n",
       " 'charit wed registri new york time',\n",
       " 'nypd raid hillari properti found ruin life usa newsflash',\n",
       " 'feinstein gorsuch originalist doctrin realli troubl origin would allow segreg breitbart',\n",
       " 'confront flare obama travel parti reach china new york time',\n",
       " 'reason appli job trump administr',\n",
       " 'thought silver market rig',\n",
       " 'hear agn martin seren john zorn frenzi music new york time',\n",
       " 'must see welcom famili mani hispan american vote donald trump',\n",
       " 'iraqi forc enter western mosul fierc battl isi new york time',\n",
       " 'european futur putin migrant crisi video',\n",
       " 'roll stone defam case magazin report order pay million new york time',\n",
       " 'hillari sick tire suffer weiner backup',\n",
       " 'taiwan itali joe mcknight friday even brief new york time',\n",
       " 'shiit militia say close tal afar turkey warn limit',\n",
       " 'brother clinton campaign chair activ foreign agent saudi arabian payrol',\n",
       " 'must fight trump goe conserv freedom caucu new york time',\n",
       " 'isi kidnap kill least civilian afghanistan',\n",
       " 'hold hillari account',\n",
       " 'break ted cruz call special prosecutor investig hillari truthfe',\n",
       " 'spare gunman charleston churchgoer describ night terror new york time',\n",
       " 'war satur fat harm peopl poor countri shun tradit fat like coconut oil',\n",
       " 'democrat garland mind mobil suprem court fight new york time',\n",
       " 'comment best kind milk dairi best kind milk dairi collect evolut apg editori',\n",
       " 'harri reid blast comey misconduct drop bombshel fbi sit russian trump info',\n",
       " 'nation review conservat inc plan cave even immigr',\n",
       " 'watch thug call us marin pussi bare live tell tale',\n",
       " 'next us presid psycho lesbian plu break news video',\n",
       " 'critic see effort counti town purg minor voter roll new york time',\n",
       " 'even brief hillari clinton donald trump cultur revolut new york time',\n",
       " 'indiana parent lose babi year live jail abus say never happen',\n",
       " 'roll stone paint blue new album new york time',\n",
       " 'uber extend oliv branch local govern data new york time',\n",
       " 'wilder put dutch first brussel africa asylum seeker',\n",
       " 'donald trump good educ enrich mind soul',\n",
       " 'watch brad pitt play afghanistan war gener war machin teaser breitbart',\n",
       " 'two power earthquak strike central itali',\n",
       " 'indoor garden made easi nutritow',\n",
       " 'elizabeth warren defin sleazi hypocrisi',\n",
       " 'rush limbaugh reilli departur natur campaign breitbart',\n",
       " 'museum truste trump donor support group deni climat chang new york time',\n",
       " 'cecil richard credit plan parenthood support stop ahca breitbart',\n",
       " 'switch chip know anymor',\n",
       " 'u conced million payment iran delay prison leverag new york time',\n",
       " 'australia say foil terrorist plot new york time',\n",
       " 'orovil dam state feder govern share blame',\n",
       " 'daili traditionalist jeff schoep nsm',\n",
       " 'michael moor joe blow vote trump ultim f elit human molotov cocktail',\n",
       " 'jaguar owner shahid khan oppos trump immigr ban new york time',\n",
       " 'anti trump advert side bu realli visual clever see motion',\n",
       " 'piano man mani face stranger stori new york time',\n",
       " 'ticket releas harri potter curs child new york time',\n",
       " 'fbi visit man home film us postal distribut center',\n",
       " 'hispan crowd boo marco rubio stage',\n",
       " 'fire tv report receiv thousand sexual violent threat',\n",
       " 'detain illeg alien end day hunger strike',\n",
       " 'break silenc offic testifi kill walter scott new york time',\n",
       " 'illeg immigr allegedli kill park spot',\n",
       " 'presid trump honor littl sister poor first white hous nat l day prayer year breitbart',\n",
       " 'hillari clinton support call recount vote battleground state',\n",
       " 'hbo scrap jon stewart anim comedi seri',\n",
       " 'sentenc murder rare book dealer',\n",
       " 'latest stock market invest book financi market',\n",
       " 'fashion industri ceo support plan parenthood civic respons',\n",
       " 'anti trump protest paid stage craigslist reveal',\n",
       " 'men exercis put damper sex life new york time',\n",
       " 'bake soda coconut oil kill cancer eye open evid',\n",
       " 'trump cite evid suggest susan rice commit crime new york time',\n",
       " 'breitbart news daili gorsuch scotu breitbart',\n",
       " 'hillari arrest',\n",
       " 'siri open smart lock let neighbor walk hous',\n",
       " 'donald trump michael phelp zika tuesday even brief new york time',\n",
       " 'obama furiou fed deplor drop piec gift',\n",
       " 'l mark year sinc rodney king riot breitbart',\n",
       " 'de facto us al qaeda allianc inform',\n",
       " 'cori booker paul rever moment underway russian come breitbart',\n",
       " 'rapper troy ave shot brooklyn new york time',\n",
       " 'seattl judg ignor jihad convict prior impos refuge reform ban breitbart',\n",
       " 'texa student skip school protest arrest violent crimin',\n",
       " 'trump aid tri reassur europ mani wari new york time',\n",
       " 'china trigger next global recess',\n",
       " 'bomb kill baghdad new york time',\n",
       " 'comment black racism martin wright',\n",
       " 'thank fbi clinton email investig shift poll number significantli trump favor',\n",
       " 'u rescu attempt afghanistan miss western hostag hour new york time',\n",
       " 'rick rule look sprott asset manag client money right',\n",
       " 'farm owner arrest protest dakota access pipelin theft land',\n",
       " 'trump pois lift ban c black site prison new york time',\n",
       " 'tesla musk investig solarc congress',\n",
       " 'ridicul stupid thing men keep women',\n",
       " 'press tv duff un condemn moder terrorist',\n",
       " 'nemesi scourg western world',\n",
       " 'trump budget new foundat american great breitbart',\n",
       " 'exclus islam state support vow terror group retak mosul liber',\n",
       " 'roll thunder motorcyclist return c honor pow mia breitbart',\n",
       " 'interest fun fact stethoscop',\n",
       " 'china seek bigger role world stage xi jinp go davo world econom forum new york time',\n",
       " 'veteran prepar join stand rock protest stop dakota access pipelin',\n",
       " 'photo latin america condemn venezuela excess use forc protest breitbart',\n",
       " 'sugar feed cancer cell may even creat',\n",
       " 'john kerri urg ground militari aircraft key area syria new york time',\n",
       " 'outsid money favor hillari clinton rate donald trump new york time',\n",
       " 'fake news new york time target breitbart report truth breitbart',\n",
       " 'blast new yorker examin psycholog shrapnel new york time',\n",
       " 'resist schwarzenegg call grassroot revolut u exit pari agreement',\n",
       " 'virginia offici request u inquiri inmat death jail new york time',\n",
       " 'report voter fraud crash cours',\n",
       " 'associ press report admit fake news stori hillari clinton',\n",
       " 'review garth brook bring rous anthem ballad yanke stadium new york time',\n",
       " 'sicher trainieren beim spin gilt ab sofort helmpflicht',\n",
       " 'everi asset class collaps need look wealth term mani chicken much ga buy',\n",
       " 'review halt catch fire time travel silicon valley dawn new york time',\n",
       " 'obama use religi test favor muslim christian',\n",
       " 'wingsuit flyer vs tree',\n",
       " 'turkey say airport bomber kyrgyzstan russia uzbekistan new york time',\n",
       " 'turmer power artifici drug',\n",
       " 'facebook caught sell target advertis exclud differ race',\n",
       " 'gatlinburg resid return home wildfir destruct new york time',\n",
       " 'year old girl use human bomb nigeria attack',\n",
       " 'shock berkeley poll california voter want democrat work trump breitbart',\n",
       " 'famili terror attack victim sue twitter provid resourc servic isi breitbart',\n",
       " 'philippin leader vow pardon polic accus mayor death new york time',\n",
       " 'fda found manipul media favor big pharma',\n",
       " 'jay h lehr begin end epa',\n",
       " 'imahdi arriv satan practic leader',\n",
       " 'ag session dem sen harri abl rush fast make nervou breitbart',\n",
       " 'u n envoy say u still back palestinian state new york time',\n",
       " 'trump happen',\n",
       " 'japan vote strengthen shinzo abe goal chang constitut new york time',\n",
       " 'trump camp caught cam brag voter suppress women black video',\n",
       " 'chelsea man ask obama cut sentenc time serv new york time',\n",
       " 'red sox broadcast jerri remi think foreign player use translat',\n",
       " 'shi ite militia join iraq mosul attack',\n",
       " 'escap reign super bowl commerci polit prove inescap new york time',\n",
       " 'naval brief novemb th ledahu',\n",
       " 'scandal video footag anonym expos huma hillari',\n",
       " 'jar new level confront conflict hit washington new york time',\n",
       " 'clinton transmit classifi info lawyer',\n",
       " 'hillari russian hack guid american might trump breitbart',\n",
       " 'gener elect campaign suspend wake manchest suicid bomb',\n",
       " 'grand slam father son film smash hit famili',\n",
       " 'venezuela econom crisi mean left fail',\n",
       " 'herd stamped wild boar kill three islam state jihadist breitbart',\n",
       " 'venu mar believ gender often wrong new york time',\n",
       " 'obama pardon list hotel magnat own studio new york time',\n",
       " 'suspect captur ambush style kill two iowa cop',\n",
       " 'megyn sic kelli gowdi triumphantli comment hillari case reopen',\n",
       " 'famili friendli polici friendliest male professor new york time',\n",
       " 'ringo starr anuncia que deja lo beatl',\n",
       " 'war less immin clinton defeat',\n",
       " 'mi chief present russia grow threat british interest',\n",
       " 'washington state upend trump travel ban new york time',\n",
       " 'protect swerv polic chief caught speed get laugh ticket video',\n",
       " 'fake news trump hit mexico explod',\n",
       " 'go wikileak',\n",
       " 'former cia director blame millenni wikileak document breitbart',\n",
       " 'tell stori slaveri new york time',\n",
       " 'live wire dutch elect high turnout expect controversi turkish mosqu poll centr',\n",
       " 'shave mean freedom omar',\n",
       " 'bombshel leak email expos muslim got obama administr',\n",
       " 'nativ american part ten lost tribe jewish peopl',\n",
       " 'blm rapper bill alleg son nasti surpris hillari',\n",
       " 'kevin durant join golden state warrior new york time',\n",
       " 'indian call center becom major center defraud american breitbart',\n",
       " 'congress attorney gener lynch plead fifth secret iran ransom payment',\n",
       " 'lo angel time editori lose trump narcissist demagogu breitbart',\n",
       " 'swirl untruth falsehood call lie lie new york time',\n",
       " 'hillari clinton lead donald trump new hampshir florida poll show new york time',\n",
       " 'gene wilder huma abedin donald trump monday even brief new york time',\n",
       " 'watch blimp crash catch fire us open breitbart',\n",
       " 'toddler loos gun car mother die new york time',\n",
       " 'asian american actor fight visibl ignor new york time',\n",
       " 'mexican feel environ',\n",
       " 'insid donald trump last stand anxiou nomine seek assur new york time',\n",
       " 'park servic name divers nation landmark new york time',\n",
       " 'weiner rise white hous alli disgrac ex congressman hire breitbart',\n",
       " 'trump lose grab musket former congressman readi go full revolut',\n",
       " 'decod north korea claim success nuclear test new york time',\n",
       " 'bill belichick wit list testifi aaron hernandez doubl murder case breitbart',\n",
       " 'l mayor silent citi rise violent crime breitbart',\n",
       " 'theresa may new british prime minist give bori johnson key post new york time',\n",
       " 'donald trump hillari clinton iphon wednesday even brief new york time',\n",
       " 'usa kill million peopl victim nation sinc world war ii',\n",
       " 'polic offic face backlash hillari photo',\n",
       " 'shakespear remain authent bore',\n",
       " 'georgia candid jon ossoff film firm financ facebook fact check funder',\n",
       " 'effort defeat isi u iran imped one anoth new york time',\n",
       " 'rick put bullet trump wilson potu support see scalis shoot bless breitbart',\n",
       " 'western intellig agenc run al qaeda camp north africa',\n",
       " 'trump tell plan parenthood fund stay abort goe new york time',\n",
       " 'comment hillari clinton gun control agenda expos wikileak email braindiseasecalledliber',\n",
       " 'barack obama delay suspend elect hillari forc new fbi email investig',\n",
       " 'donald trump incit feud g p candid flee shadow new york time',\n",
       " 'germani student forc chant allahu akbar punish refus trip mosqu',\n",
       " 'meteor space junk rocket mysteri flash hit siberia',\n",
       " 'trump nation secur advis call russian envoy day sanction impos new york time',\n",
       " 'project verita implic democrat oper claim credit romney video',\n",
       " 'laid american requir zip lip way grow bolder new york time',\n",
       " ...]"
      ]
     },
     "execution_count": 34,
     "metadata": {},
     "output_type": "execute_result"
    }
   ],
   "source": [
    "corpus"
   ]
  },
  {
   "cell_type": "code",
   "execution_count": 35,
   "metadata": {},
   "outputs": [],
   "source": [
    "##BAG OF WORDS\n",
    "from sklearn.feature_extraction.text import CountVectorizer"
   ]
  },
  {
   "cell_type": "code",
   "execution_count": 36,
   "metadata": {},
   "outputs": [],
   "source": [
    "cv=CountVectorizer(max_features=5000, ngram_range=(1,3))"
   ]
  },
  {
   "cell_type": "code",
   "execution_count": 37,
   "metadata": {},
   "outputs": [],
   "source": [
    "x=cv.fit_transform(corpus).toarray()"
   ]
  },
  {
   "cell_type": "code",
   "execution_count": 38,
   "metadata": {},
   "outputs": [
    {
     "data": {
      "text/plain": [
       "(18285, 5000)"
      ]
     },
     "execution_count": 38,
     "metadata": {},
     "output_type": "execute_result"
    }
   ],
   "source": [
    "x.shape"
   ]
  },
  {
   "cell_type": "code",
   "execution_count": 43,
   "metadata": {},
   "outputs": [
    {
     "data": {
      "text/plain": [
       "['abandon',\n",
       " 'abc',\n",
       " 'abc news',\n",
       " 'abduct',\n",
       " 'abe',\n",
       " 'abedin',\n",
       " 'abl',\n",
       " 'abort',\n",
       " 'abroad',\n",
       " 'absolut',\n",
       " 'abstain',\n",
       " 'absurd',\n",
       " 'abus',\n",
       " 'abus new',\n",
       " 'abus new york',\n",
       " 'academi',\n",
       " 'accept',\n",
       " 'access',\n",
       " 'access pipelin',\n",
       " 'access pipelin protest']"
      ]
     },
     "execution_count": 43,
     "metadata": {},
     "output_type": "execute_result"
    }
   ],
   "source": [
    "cv.get_feature_names()[0:20]"
   ]
  },
  {
   "cell_type": "code",
   "execution_count": 45,
   "metadata": {},
   "outputs": [],
   "source": [
    "y=message['label']"
   ]
  },
  {
   "cell_type": "code",
   "execution_count": 46,
   "metadata": {},
   "outputs": [],
   "source": [
    "from sklearn.model_selection import train_test_split\n",
    "X_train, X_test, y_train, y_test = train_test_split(x,y,test_size=0.5, random_state=42)"
   ]
  },
  {
   "cell_type": "code",
   "execution_count": 47,
   "metadata": {},
   "outputs": [],
   "source": [
    "##Applying Naivew Bayes\n",
    "from sklearn.naive_bayes import MultinomialNB\n",
    "classifier=MultinomialNB()"
   ]
  },
  {
   "cell_type": "code",
   "execution_count": 48,
   "metadata": {},
   "outputs": [
    {
     "data": {
      "text/plain": [
       "MultinomialNB()"
      ]
     },
     "execution_count": 48,
     "metadata": {},
     "output_type": "execute_result"
    }
   ],
   "source": [
    "classifier.fit(X_train,y_train)"
   ]
  },
  {
   "cell_type": "code",
   "execution_count": 50,
   "metadata": {},
   "outputs": [],
   "source": [
    "predict=classifier.predict(X_test)"
   ]
  },
  {
   "cell_type": "code",
   "execution_count": 52,
   "metadata": {},
   "outputs": [
    {
     "data": {
      "text/plain": [
       "0.8977359728754238"
      ]
     },
     "execution_count": 52,
     "metadata": {},
     "output_type": "execute_result"
    }
   ],
   "source": [
    "from sklearn import metrics\n",
    "metrics.accuracy_score(y_test,predict)"
   ]
  },
  {
   "cell_type": "code",
   "execution_count": 54,
   "metadata": {},
   "outputs": [
    {
     "data": {
      "text/plain": [
       "array([[4651,  530],\n",
       "       [ 405, 3557]], dtype=int64)"
      ]
     },
     "execution_count": 54,
     "metadata": {},
     "output_type": "execute_result"
    }
   ],
   "source": [
    "cm=metrics.confusion_matrix(y_test, predict)\n",
    "cm"
   ]
  },
  {
   "cell_type": "code",
   "execution_count": 58,
   "metadata": {},
   "outputs": [],
   "source": [
    "import matplotlib.pyplot as plt\n",
    "import numpy as np"
   ]
  },
  {
   "cell_type": "code",
   "execution_count": 61,
   "metadata": {},
   "outputs": [],
   "source": [
    "def plot_confusion_matrix(cm):\n",
    "    plt.imshow(cm, interpolation='nearest',cmap=plt.cm.Blues)\n",
    "    plt.colorbar()\n",
    "    plt.title('Confusion Matrix')\n",
    "    labels=['position','negative']\n",
    "    tick_marks=np.arange(len(labels))\n",
    "    plt.xticks(tick_marks,labels)\n",
    "    plt.yticks(tick_marks,labels)"
   ]
  },
  {
   "cell_type": "code",
   "execution_count": 62,
   "metadata": {},
   "outputs": [
    {
     "data": {
      "image/png": "[encoded data removed]",
      "text/plain": [
       "<Figure size 432x288 with 2 Axes>"
      ]
     },
     "metadata": {
      "needs_background": "light"
     },
     "output_type": "display_data"
    }
   ],
   "source": [
    "plot_confusion_matrix(cm)"
   ]
  },
  {
   "cell_type": "code",
   "execution_count": 63,
   "metadata": {},
   "outputs": [],
   "source": [
    "from sklearn.linear_model import PassiveAggressiveClassifier"
   ]
  },
  {
   "cell_type": "code",
   "execution_count": 65,
   "metadata": {},
   "outputs": [],
   "source": [
    "linear_clf=PassiveAggressiveClassifier()"
   ]
  },
  {
   "cell_type": "code",
   "execution_count": 66,
   "metadata": {},
   "outputs": [
    {
     "data": {
      "text/plain": [
       "PassiveAggressiveClassifier()"
      ]
     },
     "execution_count": 66,
     "metadata": {},
     "output_type": "execute_result"
    }
   ],
   "source": [
    "linear_clf.fit(X_train, y_train)"
   ]
  },
  {
   "cell_type": "code",
   "execution_count": 67,
   "metadata": {},
   "outputs": [],
   "source": [
    "predictions=linear_clf.predict(X_test)"
   ]
  },
  {
   "cell_type": "code",
   "execution_count": 69,
   "metadata": {},
   "outputs": [
    {
     "data": {
      "text/plain": [
       "0.9166575522257465"
      ]
     },
     "execution_count": 69,
     "metadata": {},
     "output_type": "execute_result"
    }
   ],
   "source": [
    "metrics.accuracy_score(y_test,predictions)"
   ]
  },
  {
   "cell_type": "code",
   "execution_count": 71,
   "metadata": {},
   "outputs": [],
   "source": [
    "cm2=metrics.confusion_matrix(y_test,predictions)"
   ]
  },
  {
   "cell_type": "code",
   "execution_count": 72,
   "metadata": {},
   "outputs": [
    {
     "data": {
      "image/png": "[encoded data removed]",
      "text/plain": [
       "<Figure size 432x288 with 2 Axes>"
      ]
     },
     "metadata": {
      "needs_background": "light"
     },
     "output_type": "display_data"
    }
   ],
   "source": [
    "plot_confusion_matrix(cm2)"
   ]
  },
  {
   "cell_type": "code",
   "execution_count": 74,
   "metadata": {},
   "outputs": [],
   "source": [
    "feature_names=cv.get_feature_names()"
   ]
  },
  {
   "cell_type": "code",
   "execution_count": 75,
   "metadata": {},
   "outputs": [
    {
     "data": {
      "text/plain": [
       "array([[ -8.84687097,  -8.66454941,  -9.07001452, ..., -10.45630888,\n",
       "         -8.84687097,  -9.35769659]])"
      ]
     },
     "execution_count": 75,
     "metadata": {},
     "output_type": "execute_result"
    }
   ],
   "source": [
    "classifier.coef_"
   ]
  },
  {
   "cell_type": "code",
   "execution_count": 78,
   "metadata": {},
   "outputs": [
    {
     "data": {
      "text/plain": [
       "[(-4.007419487607279, 'trump'),\n",
       " (-4.312123247628491, 'hillari'),\n",
       " (-4.430442907928822, 'clinton'),\n",
       " (-4.895627250738609, 'elect'),\n",
       " (-5.246822728912715, 'comment'),\n",
       " (-5.2801591491803075, 'new'),\n",
       " (-5.393713848727169, 'war'),\n",
       " (-5.393713848727169, 'video'),\n",
       " (-5.406452874504599, 'us'),\n",
       " (-5.43242836090786, 'hillari clinton'),\n",
       " (-5.445673587657881, 'fbi'),\n",
       " (-5.4727022600458, 'obama'),\n",
       " (-5.5004818241528755, 'email'),\n",
       " (-5.5146664591448324, 'vote'),\n",
       " (-5.6688171389720905, 'world'),\n",
       " (-5.8215798935245004, 'donald'),\n",
       " (-5.831336068469866, 'donald trump'),\n",
       " (-5.8611890316195465, 'russia'),\n",
       " (-5.8815979032507535, 'presid'),\n",
       " (-5.9024319901535955, 'america')]"
      ]
     },
     "execution_count": 78,
     "metadata": {},
     "output_type": "execute_result"
    }
   ],
   "source": [
    "sorted(zip(classifier.coef_[0],feature_names),reverse=True)[0:20]"
   ]
  },
  {
   "cell_type": "code",
   "execution_count": null,
   "metadata": {},
   "outputs": [],
   "source": []
  }
 ],
 "metadata": {
  "kernelspec": {
   "display_name": "Python 3",
   "language": "python",
   "name": "python3"
  },
  "language_info": {
   "codemirror_mode": {
    "name": "ipython",
    "version": 3
   },
   "file_extension": ".py",
   "mimetype": "text/x-python",
   "name": "python",
   "nbconvert_exporter": "python",
   "pygments_lexer": "ipython3",
   "version": "3.8.5"
  }
 },
 "nbformat": 4,
 "nbformat_minor": 4
}
